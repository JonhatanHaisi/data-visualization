{
 "cells": [
  {
   "cell_type": "markdown",
   "metadata": {},
   "source": [
    "# Bar Chart\n",
    "**Chart utilization:** Bar chart is used mainly for comparations."
   ]
  },
  {
   "cell_type": "code",
   "execution_count": 1,
   "metadata": {},
   "outputs": [],
   "source": [
    "import matplotlib.pyplot as plt\n",
    "import numpy as np"
   ]
  },
  {
   "cell_type": "markdown",
   "metadata": {},
   "source": [
    "## Sample Scenario: Product Avaliation\n",
    "A web store have a recommendation system where the clients can evaluate the products they've bought. The sales mananger wants to analyse the acceptance from the customers to a specific product.<br>\n",
    "Every customer can avaliate a product with a score from 1 to 5 (where 1 is the worst score and 5 the best score possible).<br>\n",
    "The analysed product have the following score:\n",
    "* Score 1: 3 votes\n",
    "* Score 2: 4 votes\n",
    "* Score 3: 8 votes\n",
    "* Score 4: 2 votes\n",
    "* Score 5: 15 votes\n",
    "\n",
    "The sales mananger wants a chart that helps him to compare the number of votes per score o the product. You can create the bar chart following the example bellow:"
   ]
  },
  {
   "cell_type": "code",
   "execution_count": 2,
   "metadata": {},
   "outputs": [],
   "source": [
    "# X Axis (horizontal)\n",
    "qtt_of_bars = 5 # We have 5 bars, one for every available score\n",
    "x_axis = np.arange(qtt_of_bars) + 1 # Creates a array with all possible scores: [1, 2, 3, 4, 5]\n",
    "\n",
    "# Y Axis (vertical)\n",
    "y_axis = [ 3, 4, 8, 2, 15 ] # this is the array with the votes for every score"
   ]
  },
  {
   "cell_type": "code",
   "execution_count": 3,
   "metadata": {},
   "outputs": [
    {
     "data": {
      "text/plain": [
       "<BarContainer object of 5 artists>"
      ]
     },
     "execution_count": 3,
     "metadata": {},
     "output_type": "execute_result"
    },
    {
     "data": {
      "image/png": "[encoded data removed]",
      "text/plain": [
       "<Figure size 432x288 with 1 Axes>"
      ]
     },
     "metadata": {
      "needs_background": "light"
     },
     "output_type": "display_data"
    }
   ],
   "source": [
    "plt.title(\"Product Votes By Score\") # This is the chart title\n",
    "\n",
    "plt.xlabel(\"Score\") # this is a label for the X Axis\n",
    "plt.ylabel(\"Number of votes\") # this is a label for the Y Axis\n",
    "\n",
    "plt.bar(x_axis, y_axis) # this is the function to create a simple bar chart"
   ]
  },
  {
   "cell_type": "markdown",
   "metadata": {},
   "source": [
    "We can categorize data in a bar chart too!\n",
    "\n",
    "## Sample Scenario: Population Statistics\n",
    "\n",
    "A mayor from a small city needs some population statistics to create the administration plan to the next year. He've asked to count the population and categorize them by sex and age (child, adult and senior for simplicity). You can find the data distribution bellow:\n",
    "\n",
    "* child\n",
    "    - boys: 500\n",
    "    - girls: 580\n",
    "* adult\n",
    "    - men: 3,500\n",
    "    - women: 3,495\n",
    "* senior\n",
    "    - men: 1370\n",
    "    - women: 1456\n",
    "    \n",
    "*The data have an error margin of 10% (very high error margin, but it is just to make it more visible at the chart)*"
   ]
  },
  {
   "cell_type": "code",
   "execution_count": 4,
   "metadata": {},
   "outputs": [],
   "source": [
    "# We have to generate arrays with all data we want to display\n",
    "men = [ 500, 3500, 1370 ] # Array containing the values for all men\n",
    "women = [ 580, 3495, 1456 ] # Array containing the values for all women\n",
    "\n",
    "# We have 2% of error margin on our data. It is good to display it too\n",
    "men_error = [ qtt * 0.1 for qtt in men ] # error margin for men data [ 50, 350, 137 ]\n",
    "women_error = [ qtt * 0.1 for qtt in women ] # error margin for women data [ 58, 349.5, 145.6 ]\n",
    "\n",
    "# X Axis configuration\n",
    "qtt_bars = 3 # 3 bars: child, adult and senior\n",
    "x_axis = np.arange(qtt_bars) # [ 0, 1, 2] - This is only to setup the positions of the bars\n",
    "x_labels = [ \"Child\", \"Adut\", \"Senior\" ] # The captions we will apply to aour chart"
   ]
  },
  {
   "cell_type": "code",
   "execution_count": 5,
   "metadata": {},
   "outputs": [
    {
     "data": {
      "text/plain": [
       "<matplotlib.legend.Legend at 0x7feda9417690>"
      ]
     },
     "execution_count": 5,
     "metadata": {},
     "output_type": "execute_result"
    },
    {
     "data": {
      "image/png": "[encoded data removed]",
      "text/plain": [
       "<Figure size 432x288 with 1 Axes>"
      ]
     },
     "metadata": {
      "needs_background": "light"
     },
     "output_type": "display_data"
    }
   ],
   "source": [
    "# creating the bar chart for men - can you see the yerr argument? it will display the error margin for men\n",
    "men_chart = plt.bar(x_axis, men, yerr=men_error)\n",
    "\n",
    "# creating the bar chart for women - here we have the argument bottom because we want to plot\n",
    "#                                    the women bars over the men bars. So we will have the totals.\n",
    "women_chart = plt.bar(x_axis, women, bottom=men, yerr=women_error)\n",
    "\n",
    "# Lets add some labels to our chart\n",
    "plt.title('Population count chart') # title to the chart\n",
    "\n",
    "plt.ylabel('Population') # A label to the Y Axis\n",
    "plt.xlabel('Age') # A label to the X Axis\n",
    "\n",
    "# We can customize the X and Y axis value markers as well, lets try it:\n",
    "plt.xticks(x_axis, x_labels)\n",
    "plt.yticks(np.arange(0, 10000, 1000))\n",
    "\n",
    "# How about a legend to help to understand the data?\n",
    "plt.legend((men_chart[0], women_chart[0]), (\"Men\", \"Women\"))\n"
   ]
  },
  {
   "cell_type": "markdown",
   "metadata": {},
   "source": [
    "We have a great visualization with bars charts!<br>\n",
    "Can you see the black lines at the top of every bar? This is out error margin!<br>\n",
    "<br>\n",
    "Now the mayor can compare the difference between the ages and gender! It is amazing how much information we have in a single chart.<br>\n",
    "But we still have a problem right? How about the exact number of men end women for everu group? Can we compare them? The response is YES!<br>\n",
    "You can check the example bellow:"
   ]
  },
  {
   "cell_type": "code",
   "execution_count": 6,
   "metadata": {},
   "outputs": [],
   "source": [
    "# -- WE HAVE SAME DATA FROM PREVIOUS EXAMPLE HERE, I\"M DUPLICATING JUST TO KEEP EVERYTHING TOGETHER --\n",
    "\n",
    "# We have to generate arrays with all data we want to display\n",
    "men = [ 500, 3500, 1370 ] # Array containing the values for all men\n",
    "women = [ 580, 3495, 1456 ] # Array containing the values for all women\n",
    "\n",
    "# We have 2% of error margin on our data. It is good to display it too\n",
    "men_error = [ qtt * 0.1 for qtt in men ] # error margin for men data [ 50, 350, 137 ]\n",
    "women_error = [ qtt * 0.1 for qtt in women ] # error margin for women data [ 58, 349.5, 145.6 ]\n",
    "\n",
    "# X Axis configuration\n",
    "qtt_bars = 3 # 3 bars: child, adult and senior\n",
    "x_axis = np.arange(qtt_bars) # [ 0, 1, 2] - This is only to setup the positions of the bars\n",
    "x_labels = [ \"Child\", \"Adut\", \"Senior\" ] # The captions we will apply to aour chart"
   ]
  },
  {
   "cell_type": "code",
   "execution_count": 7,
   "metadata": {},
   "outputs": [],
   "source": [
    "# -- HERE WE HAVE SOME NEW VALUES --\n",
    "\n",
    "# Now we want to plot the bars side by side. To do it we have to control the bar width\n",
    "bar_width = 0.35\n",
    "\n",
    "# We have to create new X Axis variables to control bar positions to plot them side by side\n",
    "x_axis_men = [ x - bar_width / 2 for x in x_axis ]\n",
    "x_axis_women = [ x + bar_width / 2 for x in x_axis ]"
   ]
  },
  {
   "cell_type": "code",
   "execution_count": 8,
   "metadata": {},
   "outputs": [
    {
     "data": {
      "text/plain": [
       "<matplotlib.legend.Legend at 0x7feda93dffd0>"
      ]
     },
     "execution_count": 8,
     "metadata": {},
     "output_type": "execute_result"
    },
    {
     "data": {
      "image/png": "[encoded data removed]",
      "text/plain": [
       "<Figure size 432x288 with 1 Axes>"
      ]
     },
     "metadata": {
      "needs_background": "light"
     },
     "output_type": "display_data"
    }
   ],
   "source": [
    "# This example is setting the legend using the label argument from bar method\n",
    "fig, ax = plt.subplots()\n",
    "men_chart = ax.bar(x_axis_men, men, bar_width, yerr=men_error, label=\"Men\")\n",
    "women_chart = ax.bar(x_axis_women, women, bar_width, yerr=women_error, label=\"Women\")\n",
    "\n",
    "#Lets add some labels to our chart\n",
    "ax.set_title(\"Population Count Chart\")\n",
    "ax.set_ylabel('Population')\n",
    "ax.set_xlabel('Age')\n",
    "\n",
    "# We want to customize the X and Y axis value markers like previous example\n",
    "ax.set_xticks(x_axis)\n",
    "ax.set_xticklabels(x_labels)\n",
    "\n",
    "ax.set_yticks(np.arange(0, 4000, 200))\n",
    "\n",
    "# Time to add our legend\n",
    "ax.legend()\n"
   ]
  },
  {
   "cell_type": "markdown",
   "metadata": {},
   "source": [
    "This chart allow us to compare the values between the population gender! Now the mayor can use the data to create a proper administration plan =)"
   ]
  },
  {
   "cell_type": "markdown",
   "metadata": {},
   "source": [
    "## Sample Scenario: Race bet\n",
    "You are analysing the speed from different animals in a race to bet in the one with better times. Lets create a bar chart to compare the results:\n",
    "\n",
    "* Bunny: 10.3 seconds mean\n",
    "* Turtle: 65.4 seconds mean\n",
    "* Fox: 12.1 seconds mean\n",
    "* Wolf: 6.4 seconds mean\n"
   ]
  },
  {
   "cell_type": "code",
   "execution_count": 9,
   "metadata": {},
   "outputs": [],
   "source": [
    "# Lets setup our data\n",
    "animals = [ \"Bunny\", \"Turtle\", \"Fox\", \"Wolf\" ]\n",
    "times = [ 10.3, 65.4, 12.1, 6.4 ]\n",
    "\n",
    "# We need to setup the bars positions too\n",
    "qtt_bars = 4\n",
    "bar_pos = np.arange(qtt_bars)\n"
   ]
  },
  {
   "cell_type": "code",
   "execution_count": 10,
   "metadata": {},
   "outputs": [
    {
     "data": {
      "text/plain": [
       "Text(0.5, 1.0, 'Animals Speeds')"
      ]
     },
     "execution_count": 10,
     "metadata": {},
     "output_type": "execute_result"
    },
    {
     "data": {
      "image/png": "[encoded data removed]",
      "text/plain": [
       "<Figure size 640x480 with 1 Axes>"
      ]
     },
     "metadata": {},
     "output_type": "display_data"
    }
   ],
   "source": [
    "# Time to create our chart. We can try something new this time\n",
    "\n",
    "# We can start reseting the matplotlib style\n",
    "plt.rcdefaults()\n",
    "\n",
    "# now we can create our horizontal bar chart\n",
    "fig, ax = plt.subplots()\n",
    "ax.barh(bar_pos, times) # barh for horizontal bars\n",
    "\n",
    "# We can customize the axis value markers to add the animal names\n",
    "ax.set_yticks(bar_pos)\n",
    "ax.set_yticklabels(animals)\n",
    "ax.invert_yaxis()  # labels read top-to-bottom\n",
    "\n",
    "# We can finish our chart creation addind a title and labels\n",
    "ax.set_ylabel(\"Animals\")\n",
    "ax.set_xlabel(\"Speed\")\n",
    "ax.set_title(\"Animals Speeds\")"
   ]
  },
  {
   "cell_type": "markdown",
   "metadata": {},
   "source": [
    "Now we can see the speed from different animals in a great horizontal bar chart!<br>\n",
    "Time to bet on wolf<br>\n",
    "<br>\n",
    "You can find more information about bar charts [here](https://matplotlib.org/gallery/index.html)."
   ]
  }
 ],
 "metadata": {
  "kernelspec": {
   "display_name": "Python 3",
   "language": "python",
   "name": "python3"
  },
  "language_info": {
   "codemirror_mode": {
    "name": "ipython",
    "version": 3
   },
   "file_extension": ".py",
   "mimetype": "text/x-python",
   "name": "python",
   "nbconvert_exporter": "python",
   "pygments_lexer": "ipython3",
   "version": "3.7.4"
  }
 },
 "nbformat": 4,
 "nbformat_minor": 4
}
